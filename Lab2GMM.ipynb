{
  "nbformat": 4,
  "nbformat_minor": 0,
  "metadata": {
    "colab": {
      "provenance": [],
      "gpuType": "T4"
    },
    "kernelspec": {
      "name": "python3",
      "display_name": "Python 3"
    },
    "language_info": {
      "name": "python"
    },
    "accelerator": "GPU"
  },
  "cells": [
    {
      "cell_type": "markdown",
      "source": [
        "Žygimantas Augustas Nemura 2110605 [Strawberry, Bee, Cat]"
      ],
      "metadata": {
        "id": "PYfAXuf5wBIK"
      }
    },
    {
      "cell_type": "code",
      "source": [
        "import shutil # Istrinam aplankus\n",
        "\n",
        "shutil.rmtree('OpenImages')\n",
        "shutil.rmtree('OpenImages_split')"
      ],
      "metadata": {
        "id": "pV3ZFvOK_WiS"
      },
      "execution_count": 75,
      "outputs": []
    },
    {
      "cell_type": "markdown",
      "source": [
        "Atsisiunciame openimage"
      ],
      "metadata": {
        "id": "ZYTlARwFfQMS"
      }
    },
    {
      "cell_type": "code",
      "source": [
        "!pip install openimages"
      ],
      "metadata": {
        "colab": {
          "base_uri": "https://localhost:8080/"
        },
        "id": "NwkdHPn-keyF",
        "outputId": "3178a116-010a-4e7b-a63b-b15ebec9cca8"
      },
      "execution_count": 76,
      "outputs": [
        {
          "output_type": "stream",
          "name": "stdout",
          "text": [
            "Requirement already satisfied: openimages in /usr/local/lib/python3.11/dist-packages (0.0.1)\n",
            "Requirement already satisfied: boto3 in /usr/local/lib/python3.11/dist-packages (from openimages) (1.37.29)\n",
            "Requirement already satisfied: cvdata in /usr/local/lib/python3.11/dist-packages (from openimages) (0.0.3)\n",
            "Requirement already satisfied: lxml in /usr/local/lib/python3.11/dist-packages (from openimages) (5.3.1)\n",
            "Requirement already satisfied: pandas in /usr/local/lib/python3.11/dist-packages (from openimages) (2.2.2)\n",
            "Requirement already satisfied: requests in /usr/local/lib/python3.11/dist-packages (from openimages) (2.32.3)\n",
            "Requirement already satisfied: tqdm in /usr/local/lib/python3.11/dist-packages (from openimages) (4.67.1)\n",
            "Requirement already satisfied: botocore<1.38.0,>=1.37.29 in /usr/local/lib/python3.11/dist-packages (from boto3->openimages) (1.37.29)\n",
            "Requirement already satisfied: jmespath<2.0.0,>=0.7.1 in /usr/local/lib/python3.11/dist-packages (from boto3->openimages) (1.0.1)\n",
            "Requirement already satisfied: s3transfer<0.12.0,>=0.11.0 in /usr/local/lib/python3.11/dist-packages (from boto3->openimages) (0.11.4)\n",
            "Requirement already satisfied: numpy in /usr/local/lib/python3.11/dist-packages (from cvdata->openimages) (2.0.2)\n",
            "Requirement already satisfied: opencv-python in /usr/local/lib/python3.11/dist-packages (from cvdata->openimages) (4.11.0.86)\n",
            "Requirement already satisfied: pillow in /usr/local/lib/python3.11/dist-packages (from cvdata->openimages) (11.1.0)\n",
            "Requirement already satisfied: python-dateutil>=2.8.2 in /usr/local/lib/python3.11/dist-packages (from pandas->openimages) (2.8.2)\n",
            "Requirement already satisfied: pytz>=2020.1 in /usr/local/lib/python3.11/dist-packages (from pandas->openimages) (2025.2)\n",
            "Requirement already satisfied: tzdata>=2022.7 in /usr/local/lib/python3.11/dist-packages (from pandas->openimages) (2025.2)\n",
            "Requirement already satisfied: charset-normalizer<4,>=2 in /usr/local/lib/python3.11/dist-packages (from requests->openimages) (3.4.1)\n",
            "Requirement already satisfied: idna<4,>=2.5 in /usr/local/lib/python3.11/dist-packages (from requests->openimages) (3.10)\n",
            "Requirement already satisfied: urllib3<3,>=1.21.1 in /usr/local/lib/python3.11/dist-packages (from requests->openimages) (2.3.0)\n",
            "Requirement already satisfied: certifi>=2017.4.17 in /usr/local/lib/python3.11/dist-packages (from requests->openimages) (2025.1.31)\n",
            "Requirement already satisfied: six>=1.5 in /usr/local/lib/python3.11/dist-packages (from python-dateutil>=2.8.2->pandas->openimages) (1.17.0)\n"
          ]
        }
      ]
    },
    {
      "cell_type": "markdown",
      "source": [
        "Sukuriame direktorija nuotraukoms ir atsisiunciame jas is openimages"
      ],
      "metadata": {
        "id": "C49JnmAyfUZO"
      }
    },
    {
      "cell_type": "code",
      "source": [
        "import os\n",
        "from openimages.download import download_dataset\n",
        "\n",
        "data_dir = \"OpenImages\" # Nurodome direktorija\n",
        "number_for_samples = 200\n",
        "classes = [\"Strawberry\", \"Bee\", \"Cat\"] # Pasirinktos klases is OpenImages\n",
        "\n",
        "if not os.path.exists(data_dir):\n",
        "    os.makedirs(data_dir)\n",
        "\n",
        "print(\"Downloading is starting...\")\n",
        "download_dataset(data_dir, classes, limit=number_for_samples) #Atsisiunciame nuotraukas"
      ],
      "metadata": {
        "colab": {
          "base_uri": "https://localhost:8080/"
        },
        "id": "H2vsvVM8likV",
        "outputId": "74b9807d-0d48-40f2-e13b-6ee71c69631f"
      },
      "execution_count": 77,
      "outputs": [
        {
          "output_type": "stream",
          "name": "stdout",
          "text": [
            "Downloading is starting...\n"
          ]
        },
        {
          "output_type": "stream",
          "name": "stderr",
          "text": [
            "100%|██████████| 200/200 [00:05<00:00, 33.83it/s]\n",
            "100%|██████████| 200/200 [00:05<00:00, 34.09it/s]\n",
            "100%|██████████| 200/200 [00:05<00:00, 34.34it/s]\n"
          ]
        },
        {
          "output_type": "execute_result",
          "data": {
            "text/plain": [
              "{'strawberry': {'images_dir': 'OpenImages/strawberry/images'},\n",
              " 'bee': {'images_dir': 'OpenImages/bee/images'},\n",
              " 'cat': {'images_dir': 'OpenImages/cat/images'}}"
            ]
          },
          "metadata": {},
          "execution_count": 77
        }
      ]
    },
    {
      "cell_type": "markdown",
      "source": [
        "Padalinam duomenis i treniravimo ir testavimo"
      ],
      "metadata": {
        "id": "ew1mmq7OfZdA"
      }
    },
    {
      "cell_type": "code",
      "source": [
        "import random\n",
        "import shutil\n",
        "\n",
        "def split_dataset(base_dir, split_ratios=(0.7, 0.2, 0.1)):\n",
        "    assert abs(sum(split_ratios) - 1.0) < 1e-6\n",
        "    sets = ['train', 'validate', 'test']\n",
        "\n",
        "    for cls in os.listdir(base_dir):\n",
        "        class_dir = os.path.join(base_dir, cls, \"images\")\n",
        "        if not os.path.isdir(class_dir):\n",
        "            continue\n",
        "\n",
        "        images = [f for f in os.listdir(class_dir) if f.endswith('.jpg')]\n",
        "        if not images:\n",
        "            print(f\"No images found for class: {cls}\")\n",
        "            continue\n",
        "\n",
        "        random.shuffle(images)\n",
        "\n",
        "        total = len(images)\n",
        "        train_end = int(split_ratios[0] * total)\n",
        "        val_end = train_end + int(split_ratios[1] * total)\n",
        "\n",
        "        splits = {\n",
        "            'train': images[:train_end],\n",
        "            'validate': images[train_end:val_end],\n",
        "            'test': images[val_end:]\n",
        "        }\n",
        "\n",
        "        for split_name in sets:\n",
        "            split_dir = os.path.join(base_dir + \"_split\", split_name, cls)\n",
        "            os.makedirs(split_dir, exist_ok=True)\n",
        "            for img in splits[split_name]:\n",
        "                src = os.path.join(class_dir, img)\n",
        "                dst = os.path.join(split_dir, img)\n",
        "                shutil.copy(src, dst)\n",
        "\n",
        "    print(\"Split successfully.\")\n",
        "\n",
        "split_dataset(data_dir)"
      ],
      "metadata": {
        "id": "MV4CIkf0-xH3",
        "colab": {
          "base_uri": "https://localhost:8080/"
        },
        "outputId": "f30659dc-e9f4-4ffc-b8d8-5548033c142e"
      },
      "execution_count": 78,
      "outputs": [
        {
          "output_type": "stream",
          "name": "stdout",
          "text": [
            "Split successfully.\n"
          ]
        }
      ]
    },
    {
      "cell_type": "markdown",
      "source": [
        "Su modeliu susijusios bibliotekos"
      ],
      "metadata": {
        "id": "pc5-TRqGff02"
      }
    },
    {
      "cell_type": "code",
      "execution_count": 79,
      "metadata": {
        "id": "FdcTvaYohoEi"
      },
      "outputs": [],
      "source": [
        "import torch\n",
        "import torch.nn as nn\n",
        "import torch.optim as optim\n",
        "from torch.utils.data import Dataset, DataLoader\n",
        "import torchvision.transforms as transforms\n",
        "from torchvision.datasets import ImageFolder"
      ]
    },
    {
      "cell_type": "markdown",
      "source": [
        "Apsirasome dataset"
      ],
      "metadata": {
        "id": "F_A92CY4fjRp"
      }
    },
    {
      "cell_type": "code",
      "source": [
        "class Lab2Dataset(Dataset):\n",
        "    def __init__(self, data_dir, transform=None):\n",
        "        self.data = ImageFolder(data_dir, transform)\n",
        "\n",
        "    def __len__(self):\n",
        "        return len(self.data)\n",
        "\n",
        "    def __getitem__(self, idx):\n",
        "        return self.data[idx]\n",
        "\n",
        "    @property\n",
        "    def classes(self):\n",
        "        return self.data.classes"
      ],
      "metadata": {
        "id": "mGuy8q1ljXN3"
      },
      "execution_count": 80,
      "outputs": []
    },
    {
      "cell_type": "markdown",
      "source": [
        "Transformacijos"
      ],
      "metadata": {
        "id": "nuNNYbn5fmTN"
      }
    },
    {
      "cell_type": "code",
      "source": [
        "transform = {\n",
        "    'train': transforms.Compose([ #Treniravimo duomenis truputi paivairinam, kad sumazinti overfitting treniravimo metu\n",
        "        transforms.Resize((128, 128)),\n",
        "        transforms.RandomHorizontalFlip(),\n",
        "        transforms.RandomRotation(10),\n",
        "        transforms.ColorJitter(brightness=0.2, contrast=0.2),\n",
        "        transforms.ToTensor(),\n",
        "        transforms.Normalize([0.5]*3, [0.5]*3)\n",
        "    ]),\n",
        "    'validation': transforms.Compose([\n",
        "        transforms.Resize((128, 128)),\n",
        "        transforms.ToTensor(),\n",
        "        transforms.Normalize([0.5]*3, [0.5]*3)\n",
        "    ]),\n",
        "    'test': transforms.Compose([\n",
        "        transforms.Resize((128, 128)),\n",
        "        transforms.ToTensor(),\n",
        "        transforms.Normalize([0.5]*3, [0.5]*3)\n",
        "    ])\n",
        "}"
      ],
      "metadata": {
        "id": "YPkAhjmiuO_Y"
      },
      "execution_count": 81,
      "outputs": []
    },
    {
      "cell_type": "markdown",
      "source": [
        "Sukuriam datasets"
      ],
      "metadata": {
        "id": "KZUtUiggfpre"
      }
    },
    {
      "cell_type": "code",
      "source": [
        "train_dataset = Lab2Dataset(data_dir='OpenImages_split/train', transform = transform['train'])\n",
        "val_dataset = Lab2Dataset(data_dir='OpenImages_split/validate', transform = transform['validation'])\n",
        "test_dataset = Lab2Dataset(data_dir='OpenImages_split/test', transform = transform['test'])"
      ],
      "metadata": {
        "id": "3uLlh_fToPeg"
      },
      "execution_count": 82,
      "outputs": []
    },
    {
      "cell_type": "markdown",
      "source": [
        "Idedam datasets i dataloaders"
      ],
      "metadata": {
        "id": "Kqny72wmftgK"
      }
    },
    {
      "cell_type": "code",
      "source": [
        "train_dataloader = DataLoader(train_dataset, batch_size=32, shuffle=True, num_workers=2)\n",
        "val_dataloader = DataLoader(val_dataset, batch_size=32, shuffle=False)\n",
        "test_dataloader = DataLoader(test_dataset, batch_size=32, shuffle=False)"
      ],
      "metadata": {
        "id": "w36JSmVluXCi"
      },
      "execution_count": 83,
      "outputs": []
    },
    {
      "cell_type": "markdown",
      "source": [
        "CNN Modelis"
      ],
      "metadata": {
        "id": "I6ZWClgsfyK2"
      }
    },
    {
      "cell_type": "code",
      "source": [
        "import torch.nn.functional as F\n",
        "\n",
        "class Lab2CNN(nn.Module):\n",
        "    def __init__(self, num_classes=3):\n",
        "        super(Lab2CNN, self).__init__()\n",
        "\n",
        "        self.conv1 = nn.Conv2d(3, 32, 3, padding=1) # Tris kartus pritaikom konvoliucija\n",
        "        self.bn1 = nn.BatchNorm2d(32)\n",
        "\n",
        "        self.conv2 = nn.Conv2d(32, 64, 3, padding=1)\n",
        "        self.bn2 = nn.BatchNorm2d(64)\n",
        "\n",
        "        self.conv3 = nn.Conv2d(64, 128, 3, padding=1)\n",
        "        self.bn3 = nn.BatchNorm2d(128)\n",
        "\n",
        "        self.pool = nn.MaxPool2d(2, 2) # Pritaikome pooling\n",
        "\n",
        "        self.fc1 = nn.Linear(128 * 16 * 16, 512) # Tikimybes\n",
        "        self.fc2 = nn.Linear(512, 256)\n",
        "        self.fc3 = nn.Linear(256, num_classes)\n",
        "\n",
        "        self.dropout1 = nn.Dropout(0.3) # Padeda su overfitting\n",
        "        self.dropout2 = nn.Dropout(0.5)\n",
        "\n",
        "    def forward(self, x): # Apdoroja duomenis\n",
        "        x = self.pool(F.leaky_relu(self.bn1(self.conv1(x))))\n",
        "        x = self.pool(F.leaky_relu(self.bn2(self.conv2(x))))\n",
        "        x = self.pool(F.leaky_relu(self.bn3(self.conv3(x))))\n",
        "\n",
        "        x = x.view(x.size(0), -1)\n",
        "        x = self.dropout1(F.leaky_relu(self.fc1(x)))\n",
        "        x = self.dropout2(F.leaky_relu(self.fc2(x)))\n",
        "        x = self.fc3(x)\n",
        "\n",
        "        return x"
      ],
      "metadata": {
        "id": "XRRYfLhIx85n"
      },
      "execution_count": 84,
      "outputs": []
    },
    {
      "cell_type": "markdown",
      "source": [
        "Paruosiam modeli darbui"
      ],
      "metadata": {
        "id": "7U2Z8vdPf2Rk"
      }
    },
    {
      "cell_type": "code",
      "source": [
        "device = torch.device(\"cuda\" if torch.cuda.is_available() else \"cpu\")\n",
        "model = Lab2CNN(num_classes=3)\n",
        "model.to(device)"
      ],
      "metadata": {
        "id": "mpL9dvgJ0xYI",
        "colab": {
          "base_uri": "https://localhost:8080/"
        },
        "outputId": "3eb161af-6226-42e2-a9c8-703df9b874a0"
      },
      "execution_count": 85,
      "outputs": [
        {
          "output_type": "execute_result",
          "data": {
            "text/plain": [
              "Lab2CNN(\n",
              "  (conv1): Conv2d(3, 32, kernel_size=(3, 3), stride=(1, 1), padding=(1, 1))\n",
              "  (bn1): BatchNorm2d(32, eps=1e-05, momentum=0.1, affine=True, track_running_stats=True)\n",
              "  (conv2): Conv2d(32, 64, kernel_size=(3, 3), stride=(1, 1), padding=(1, 1))\n",
              "  (bn2): BatchNorm2d(64, eps=1e-05, momentum=0.1, affine=True, track_running_stats=True)\n",
              "  (conv3): Conv2d(64, 128, kernel_size=(3, 3), stride=(1, 1), padding=(1, 1))\n",
              "  (bn3): BatchNorm2d(128, eps=1e-05, momentum=0.1, affine=True, track_running_stats=True)\n",
              "  (pool): MaxPool2d(kernel_size=2, stride=2, padding=0, dilation=1, ceil_mode=False)\n",
              "  (fc1): Linear(in_features=32768, out_features=512, bias=True)\n",
              "  (fc2): Linear(in_features=512, out_features=256, bias=True)\n",
              "  (fc3): Linear(in_features=256, out_features=3, bias=True)\n",
              "  (dropout1): Dropout(p=0.3, inplace=False)\n",
              "  (dropout2): Dropout(p=0.5, inplace=False)\n",
              ")"
            ]
          },
          "metadata": {},
          "execution_count": 85
        }
      ]
    },
    {
      "cell_type": "markdown",
      "source": [
        "Cross entropy loss funkcija ir optimizer"
      ],
      "metadata": {
        "id": "X6IBeD2jf5W8"
      }
    },
    {
      "cell_type": "code",
      "source": [
        "criterion = nn.CrossEntropyLoss()\n",
        "optimizer = optim.Adam(model.parameters(), lr=0.001)"
      ],
      "metadata": {
        "id": "dRfsRU7u1SZE"
      },
      "execution_count": 86,
      "outputs": []
    },
    {
      "cell_type": "markdown",
      "source": [
        "Epoch - kiek kartu modelis bus treniruojamas, o kitos dvi tuscios aibes skirtos sekti loss per treniravima"
      ],
      "metadata": {
        "id": "y49jVk8BgBdd"
      }
    },
    {
      "cell_type": "code",
      "source": [
        "num_epoch = 30\n",
        "train_losses, val_losses = [], []"
      ],
      "metadata": {
        "id": "5YcIqoT05JFf"
      },
      "execution_count": 87,
      "outputs": []
    },
    {
      "cell_type": "markdown",
      "source": [
        "Treniruojam modeli, sekam loss"
      ],
      "metadata": {
        "id": "PtAkF91LgOsg"
      }
    },
    {
      "cell_type": "code",
      "source": [
        "for epoch in range(num_epoch):\n",
        "    model.train()\n",
        "    running_loss = 0.0\n",
        "    for images, labels in train_dataloader:\n",
        "        images, labels = images.to(device), labels.to(device)\n",
        "        optimizer.zero_grad()\n",
        "        outputs = model(images)\n",
        "        loss = criterion(outputs, labels) # Palygina spejima su tiesa ir duoda loss\n",
        "        loss.backward() # Paskaiciuoja nauja gradienta\n",
        "        optimizer.step() # Atnaujina modelio svorius\n",
        "        running_loss += loss.item() * labels.size(0)\n",
        "    train_loss = running_loss / len(train_dataloader.dataset)\n",
        "    train_losses.append(train_loss)\n",
        "\n",
        "\n",
        "    model.eval()\n",
        "    running_loss = 0.0\n",
        "    with torch.no_grad():\n",
        "        for images, labels in val_dataloader:\n",
        "            images, labels = images.to(device), labels.to(device)\n",
        "            outputs = model(images)\n",
        "            loss = criterion(outputs, labels)\n",
        "            running_loss += loss.item() * labels.size(0)\n",
        "    val_loss = running_loss / len(val_dataloader.dataset)\n",
        "    val_losses.append(val_loss)\n",
        "\n",
        "    print(f\"Epoch {epoch+1}/{num_epoch} - Train Loss: {train_loss:.4f} - Val Loss: {val_loss:.4f}\")"
      ],
      "metadata": {
        "id": "Qoc9TUEV5WpA",
        "colab": {
          "base_uri": "https://localhost:8080/"
        },
        "outputId": "9dc47602-dc8b-4eaa-faa8-64c4188d2c31"
      },
      "execution_count": 88,
      "outputs": [
        {
          "output_type": "stream",
          "name": "stdout",
          "text": [
            "Epoch 1/30 - Train Loss: 2.7909 - Val Loss: 0.9552\n",
            "Epoch 2/30 - Train Loss: 1.1182 - Val Loss: 0.5877\n",
            "Epoch 3/30 - Train Loss: 1.0877 - Val Loss: 0.4972\n",
            "Epoch 4/30 - Train Loss: 0.9113 - Val Loss: 0.5871\n",
            "Epoch 5/30 - Train Loss: 0.6739 - Val Loss: 0.4936\n",
            "Epoch 6/30 - Train Loss: 0.8081 - Val Loss: 0.4731\n",
            "Epoch 7/30 - Train Loss: 0.7483 - Val Loss: 0.4787\n",
            "Epoch 8/30 - Train Loss: 0.6290 - Val Loss: 0.4060\n",
            "Epoch 9/30 - Train Loss: 0.6296 - Val Loss: 0.5355\n",
            "Epoch 10/30 - Train Loss: 0.5904 - Val Loss: 0.4087\n",
            "Epoch 11/30 - Train Loss: 0.5202 - Val Loss: 0.4412\n",
            "Epoch 12/30 - Train Loss: 0.5543 - Val Loss: 0.4943\n",
            "Epoch 13/30 - Train Loss: 0.5020 - Val Loss: 0.4568\n",
            "Epoch 14/30 - Train Loss: 0.4644 - Val Loss: 0.4336\n",
            "Epoch 15/30 - Train Loss: 0.5345 - Val Loss: 0.3529\n",
            "Epoch 16/30 - Train Loss: 0.4115 - Val Loss: 0.3382\n",
            "Epoch 17/30 - Train Loss: 0.4779 - Val Loss: 0.3912\n",
            "Epoch 18/30 - Train Loss: 0.5612 - Val Loss: 0.4365\n",
            "Epoch 19/30 - Train Loss: 0.7598 - Val Loss: 0.4900\n",
            "Epoch 20/30 - Train Loss: 0.5730 - Val Loss: 0.5393\n",
            "Epoch 21/30 - Train Loss: 0.5190 - Val Loss: 0.3388\n",
            "Epoch 22/30 - Train Loss: 0.5011 - Val Loss: 0.6299\n",
            "Epoch 23/30 - Train Loss: 0.5257 - Val Loss: 0.3652\n",
            "Epoch 24/30 - Train Loss: 0.3950 - Val Loss: 0.3635\n",
            "Epoch 25/30 - Train Loss: 0.3548 - Val Loss: 0.4298\n",
            "Epoch 26/30 - Train Loss: 0.3789 - Val Loss: 0.3640\n",
            "Epoch 27/30 - Train Loss: 0.3394 - Val Loss: 0.4724\n",
            "Epoch 28/30 - Train Loss: 0.4504 - Val Loss: 0.4049\n",
            "Epoch 29/30 - Train Loss: 0.3849 - Val Loss: 0.3915\n",
            "Epoch 30/30 - Train Loss: 0.3313 - Val Loss: 0.3583\n"
          ]
        }
      ]
    },
    {
      "cell_type": "code",
      "source": [
        "import matplotlib.pyplot as plt\n",
        "\n",
        "def plot_loss(train_losses, val_losses):\n",
        "    plt.figure(figsize=(10, 5))\n",
        "    plt.plot(train_losses, label='Train loss')\n",
        "    plt.plot(val_losses, label='Val loss')\n",
        "    plt.xlabel('Epoch')\n",
        "    plt.ylabel('Loss')\n",
        "    plt.title('Training and Validation losses')\n",
        "    plt.legend()\n",
        "    plt.grid(True)\n",
        "    plt.tight_layout()\n",
        "    plt.show()\n",
        "\n",
        "plot_loss(train_losses, val_losses)"
      ],
      "metadata": {
        "colab": {
          "base_uri": "https://localhost:8080/",
          "height": 507
        },
        "id": "xOHldxgerSEx",
        "outputId": "d434c4e0-2e21-4070-f41c-3b6b817c508a"
      },
      "execution_count": 89,
      "outputs": [
        {
          "output_type": "display_data",
          "data": {
            "text/plain": [
              "<Figure size 1000x500 with 1 Axes>"
            ],
            "image/png": "[encoded data removed]"
          },
          "metadata": {}
        }
      ]
    },
    {
      "cell_type": "markdown",
      "source": [
        "Su istreniruotu modeliu testuojam duomenis ir skaiciuojam confusion matrix"
      ],
      "metadata": {
        "id": "-oR9BTDogS2P"
      }
    },
    {
      "cell_type": "code",
      "source": [
        "from sklearn.metrics import confusion_matrix, accuracy_score, precision_score, recall_score, f1_score\n",
        "import numpy as np\n",
        "\n",
        "\n",
        "model.eval()\n",
        "y_true = []\n",
        "y_pred = []\n",
        "\n",
        "with torch.no_grad():\n",
        "    for images, labels in test_dataloader:\n",
        "        images, labels = images.to(device), labels.to(device)\n",
        "        outputs = model(images)\n",
        "        _, predicted = torch.max(outputs, 1)\n",
        "        y_true.extend(labels.cpu().numpy())\n",
        "        y_pred.extend(predicted.cpu().numpy())\n",
        "\n",
        "\n",
        "class_labels = test_dataset.classes\n",
        "\n",
        "conf_matrix = confusion_matrix(y_true, y_pred)\n",
        "accuracy = accuracy_score(y_true, y_pred)\n",
        "precisions = precision_score(y_true, y_pred, average=None)\n",
        "recalls = recall_score(y_true, y_pred, average=None)\n",
        "f1s = f1_score(y_true, y_pred, average=None)\n",
        "\n",
        "\n",
        "print(\"Confusion Matrix:\")\n",
        "print(conf_matrix)\n",
        "print(f\"\\n Accuracy: {accuracy:.4f}\\n\")\n",
        "\n",
        "print(\"Results by class:\")\n",
        "for i, label in enumerate(class_labels):\n",
        "    print(f\"{label}\")\n",
        "    print(f\"  Precision: {precisions[i]:.4f}\")\n",
        "    print(f\"  Recall:    {recalls[i]:.4f}\")\n",
        "    print(f\"  F1:        {f1s[i]:.4f}\\n\")\n"
      ],
      "metadata": {
        "colab": {
          "base_uri": "https://localhost:8080/"
        },
        "id": "34by7y_JOjyC",
        "outputId": "6471456e-88bf-48a7-dfeb-3b54578c8388"
      },
      "execution_count": 90,
      "outputs": [
        {
          "output_type": "stream",
          "name": "stdout",
          "text": [
            "Confusion Matrix:\n",
            "[[17  3  0]\n",
            " [ 3 17  0]\n",
            " [ 1  1 18]]\n",
            "\n",
            " Accuracy: 0.8667\n",
            "\n",
            "Results by class:\n",
            "bee\n",
            "  Precision: 0.8095\n",
            "  Recall:    0.8500\n",
            "  F1:        0.8293\n",
            "\n",
            "cat\n",
            "  Precision: 0.8095\n",
            "  Recall:    0.8500\n",
            "  F1:        0.8293\n",
            "\n",
            "strawberry\n",
            "  Precision: 1.0000\n",
            "  Recall:    0.9000\n",
            "  F1:        0.9474\n",
            "\n"
          ]
        }
      ]
    },
    {
      "cell_type": "markdown",
      "source": [
        "Skirta individualiai nuotraukai"
      ],
      "metadata": {
        "id": "zw28o3NHgbO6"
      }
    },
    {
      "cell_type": "code",
      "source": [
        "from PIL import Image\n",
        "\n",
        "def predict_single_image(image_path, model, transform, class_names, device):\n",
        "    model.eval()\n",
        "    img = Image.open(image_path).convert('RGB')\n",
        "    img_tensor = transform(img).unsqueeze(0).to(device)\n",
        "\n",
        "    with torch.no_grad():\n",
        "        output = model(img_tensor)\n",
        "        _, predicted_idx = torch.max(output, 1)\n",
        "        predicted_class = class_names[predicted_idx.item()]\n",
        "        probabilities = torch.softmax(output, dim=1).squeeze().cpu().numpy()\n",
        "\n",
        "    print(f\"Predicted class: {predicted_class}\")\n",
        "    for i, class_name in enumerate(class_names):\n",
        "        print(f\"{class_name}: {probabilities[i]*100:.2f}%\")\n",
        "\n",
        "    return predicted_class"
      ],
      "metadata": {
        "id": "9gsll76lce8D"
      },
      "execution_count": 91,
      "outputs": []
    },
    {
      "cell_type": "code",
      "source": [
        "image_path = \"bee_straw.jpg\"\n",
        "predict_single_image(image_path, model, transform['test'], test_dataset.classes, device)"
      ],
      "metadata": {
        "colab": {
          "base_uri": "https://localhost:8080/",
          "height": 105
        },
        "id": "SQdWWdfrcgcK",
        "outputId": "57879719-215b-44ae-f8ca-c8deeb2f47f2"
      },
      "execution_count": 93,
      "outputs": [
        {
          "output_type": "stream",
          "name": "stdout",
          "text": [
            "Predicted class: strawberry\n",
            "bee: 0.08%\n",
            "cat: 0.13%\n",
            "strawberry: 99.79%\n"
          ]
        },
        {
          "output_type": "execute_result",
          "data": {
            "text/plain": [
              "'strawberry'"
            ],
            "application/vnd.google.colaboratory.intrinsic+json": {
              "type": "string"
            }
          },
          "metadata": {},
          "execution_count": 93
        }
      ]
    }
  ]
}